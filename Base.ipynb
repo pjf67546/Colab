{
  "cells": [
    {
      "cell_type": "markdown",
      "metadata": {
        "id": "view-in-github",
        "colab_type": "text"
      },
      "source": [
        "<a href=\"https://colab.research.google.com/github/pjf67546/Colab/blob/main/Base.ipynb\" target=\"_parent\"><img src=\"https://colab.research.google.com/assets/colab-badge.svg\" alt=\"Open In Colab\"/></a>"
      ]
    },
    {
      "cell_type": "markdown",
      "source": [
        "Base"
      ],
      "metadata": {
        "id": "h7ZebKVf278n"
      }
    },
    {
      "cell_type": "code",
      "source": [
        "!git clone https://github.com/codelion/openevolve.git\n",
        "%cd openevolve\n",
        "!pip install -e .\n",
        "# Install requirements for visualization\n",
        "!pip install -r scripts/requirements.txt"
      ],
      "metadata": {
        "id": "5OIk5ZFP2Dou",
        "outputId": "8fc7a9a6-57fa-408e-c1d9-6f7b84c2187e",
        "colab": {
          "base_uri": "https://localhost:8080/"
        }
      },
      "execution_count": 1,
      "outputs": [
        {
          "output_type": "stream",
          "name": "stdout",
          "text": [
            "Cloning into 'openevolve'...\n",
            "remote: Enumerating objects: 2221, done.\u001b[K\n",
            "remote: Counting objects: 100% (911/911), done.\u001b[K\n",
            "remote: Compressing objects: 100% (267/267), done.\u001b[K\n",
            "remote: Total 2221 (delta 760), reused 657 (delta 644), pack-reused 1310 (from 3)\u001b[K\n",
            "Receiving objects: 100% (2221/2221), 3.49 MiB | 9.26 MiB/s, done.\n",
            "Resolving deltas: 100% (1352/1352), done.\n",
            "/content/openevolve\n",
            "Obtaining file:///content/openevolve\n",
            "  Installing build dependencies ... \u001b[?25l\u001b[?25hdone\n",
            "  Checking if build backend supports build_editable ... \u001b[?25l\u001b[?25hdone\n",
            "  Getting requirements to build editable ... \u001b[?25l\u001b[?25hdone\n",
            "  Preparing editable metadata (pyproject.toml) ... \u001b[?25l\u001b[?25hdone\n",
            "Requirement already satisfied: openai>=1.0.0 in /usr/local/lib/python3.11/dist-packages (from openevolve==0.0.9) (1.86.0)\n",
            "Requirement already satisfied: pyyaml>=6.0 in /usr/local/lib/python3.11/dist-packages (from openevolve==0.0.9) (6.0.2)\n",
            "Requirement already satisfied: numpy>=1.22.0 in /usr/local/lib/python3.11/dist-packages (from openevolve==0.0.9) (2.0.2)\n",
            "Requirement already satisfied: tqdm>=4.64.0 in /usr/local/lib/python3.11/dist-packages (from openevolve==0.0.9) (4.67.1)\n",
            "Requirement already satisfied: flask in /usr/local/lib/python3.11/dist-packages (from openevolve==0.0.9) (3.1.1)\n",
            "Requirement already satisfied: anyio<5,>=3.5.0 in /usr/local/lib/python3.11/dist-packages (from openai>=1.0.0->openevolve==0.0.9) (4.9.0)\n",
            "Requirement already satisfied: distro<2,>=1.7.0 in /usr/local/lib/python3.11/dist-packages (from openai>=1.0.0->openevolve==0.0.9) (1.9.0)\n",
            "Requirement already satisfied: httpx<1,>=0.23.0 in /usr/local/lib/python3.11/dist-packages (from openai>=1.0.0->openevolve==0.0.9) (0.28.1)\n",
            "Requirement already satisfied: jiter<1,>=0.4.0 in /usr/local/lib/python3.11/dist-packages (from openai>=1.0.0->openevolve==0.0.9) (0.10.0)\n",
            "Requirement already satisfied: pydantic<3,>=1.9.0 in /usr/local/lib/python3.11/dist-packages (from openai>=1.0.0->openevolve==0.0.9) (2.11.7)\n",
            "Requirement already satisfied: sniffio in /usr/local/lib/python3.11/dist-packages (from openai>=1.0.0->openevolve==0.0.9) (1.3.1)\n",
            "Requirement already satisfied: typing-extensions<5,>=4.11 in /usr/local/lib/python3.11/dist-packages (from openai>=1.0.0->openevolve==0.0.9) (4.14.0)\n",
            "Requirement already satisfied: blinker>=1.9.0 in /usr/local/lib/python3.11/dist-packages (from flask->openevolve==0.0.9) (1.9.0)\n",
            "Requirement already satisfied: click>=8.1.3 in /usr/local/lib/python3.11/dist-packages (from flask->openevolve==0.0.9) (8.2.1)\n",
            "Requirement already satisfied: itsdangerous>=2.2.0 in /usr/local/lib/python3.11/dist-packages (from flask->openevolve==0.0.9) (2.2.0)\n",
            "Requirement already satisfied: jinja2>=3.1.2 in /usr/local/lib/python3.11/dist-packages (from flask->openevolve==0.0.9) (3.1.6)\n",
            "Requirement already satisfied: markupsafe>=2.1.1 in /usr/local/lib/python3.11/dist-packages (from flask->openevolve==0.0.9) (3.0.2)\n",
            "Requirement already satisfied: werkzeug>=3.1.0 in /usr/local/lib/python3.11/dist-packages (from flask->openevolve==0.0.9) (3.1.3)\n",
            "Requirement already satisfied: idna>=2.8 in /usr/local/lib/python3.11/dist-packages (from anyio<5,>=3.5.0->openai>=1.0.0->openevolve==0.0.9) (3.10)\n",
            "Requirement already satisfied: certifi in /usr/local/lib/python3.11/dist-packages (from httpx<1,>=0.23.0->openai>=1.0.0->openevolve==0.0.9) (2025.6.15)\n",
            "Requirement already satisfied: httpcore==1.* in /usr/local/lib/python3.11/dist-packages (from httpx<1,>=0.23.0->openai>=1.0.0->openevolve==0.0.9) (1.0.9)\n",
            "Requirement already satisfied: h11>=0.16 in /usr/local/lib/python3.11/dist-packages (from httpcore==1.*->httpx<1,>=0.23.0->openai>=1.0.0->openevolve==0.0.9) (0.16.0)\n",
            "Requirement already satisfied: annotated-types>=0.6.0 in /usr/local/lib/python3.11/dist-packages (from pydantic<3,>=1.9.0->openai>=1.0.0->openevolve==0.0.9) (0.7.0)\n",
            "Requirement already satisfied: pydantic-core==2.33.2 in /usr/local/lib/python3.11/dist-packages (from pydantic<3,>=1.9.0->openai>=1.0.0->openevolve==0.0.9) (2.33.2)\n",
            "Requirement already satisfied: typing-inspection>=0.4.0 in /usr/local/lib/python3.11/dist-packages (from pydantic<3,>=1.9.0->openai>=1.0.0->openevolve==0.0.9) (0.4.1)\n",
            "Building wheels for collected packages: openevolve\n",
            "  Building editable for openevolve (pyproject.toml) ... \u001b[?25l\u001b[?25hdone\n",
            "  Created wheel for openevolve: filename=openevolve-0.0.9-0.editable-py3-none-any.whl size=11868 sha256=1843138d15cd2a180a51dd391a631a329eb2cc7b1efe1a9e7d70d3565077816d\n",
            "  Stored in directory: /tmp/pip-ephem-wheel-cache-r6y9huyb/wheels/9b/01/08/ee6954a099a63ae2a4932b4e64c0a9bd24f6a0932b3af955a9\n",
            "Successfully built openevolve\n",
            "Installing collected packages: openevolve\n",
            "Successfully installed openevolve-0.0.9\n",
            "Requirement already satisfied: flask in /usr/local/lib/python3.11/dist-packages (from -r scripts/requirements.txt (line 1)) (3.1.1)\n",
            "Requirement already satisfied: blinker>=1.9.0 in /usr/local/lib/python3.11/dist-packages (from flask->-r scripts/requirements.txt (line 1)) (1.9.0)\n",
            "Requirement already satisfied: click>=8.1.3 in /usr/local/lib/python3.11/dist-packages (from flask->-r scripts/requirements.txt (line 1)) (8.2.1)\n",
            "Requirement already satisfied: itsdangerous>=2.2.0 in /usr/local/lib/python3.11/dist-packages (from flask->-r scripts/requirements.txt (line 1)) (2.2.0)\n",
            "Requirement already satisfied: jinja2>=3.1.2 in /usr/local/lib/python3.11/dist-packages (from flask->-r scripts/requirements.txt (line 1)) (3.1.6)\n",
            "Requirement already satisfied: markupsafe>=2.1.1 in /usr/local/lib/python3.11/dist-packages (from flask->-r scripts/requirements.txt (line 1)) (3.0.2)\n",
            "Requirement already satisfied: werkzeug>=3.1.0 in /usr/local/lib/python3.11/dist-packages (from flask->-r scripts/requirements.txt (line 1)) (3.1.3)\n"
          ]
        }
      ]
    },
    {
      "cell_type": "code",
      "source": [
        "file_name = \"scripts/visualizer.py\"\n",
        "\n",
        "# 讀取文件\n",
        "with open(file_name, 'r') as file:\n",
        "    lines = file.readlines()\n",
        "\n",
        "# 修改指定行\n",
        "lines[182] = lines[182].replace(\"8080\",\"8888\")\n",
        "\n",
        "# 寫回文件\n",
        "with open(file_name, 'w') as file:\n",
        "    file.writelines(lines)\n",
        "\n",
        "from google.colab.output import eval_js\n",
        "print(eval_js(\"google.colab.kernel.proxyPort(8888)\"))"
      ],
      "metadata": {
        "id": "lzsN-sOG52QM"
      },
      "execution_count": 9,
      "outputs": []
    },
    {
      "cell_type": "code",
      "source": [
        "!pip install -qq colab-xterm\n",
        "%load_ext colabxterm\n",
        "%xterm\n",
        "#python scripts/visualizer.py"
      ],
      "metadata": {
        "id": "SJ2CakTL5zAs"
      },
      "execution_count": null,
      "outputs": []
    },
    {
      "cell_type": "code",
      "source": [
        "# Phase 1: Initial exploration\n",
        "!python openevolve-run.py examples/circle_packing/initial_program.py \\\n",
        "  examples/circle_packing/evaluator.py \\\n",
        "  --config examples/circle_packing/config_phase_1.yaml \\\n",
        "  --iterations 200"
      ],
      "metadata": {
        "id": "i9wCSOz8-JRT"
      },
      "execution_count": null,
      "outputs": []
    },
    {
      "cell_type": "code",
      "source": [
        "# Phase 2: Breaking through the plateau\n",
        "!python openevolve-run.py examples/circle_packing/openevolve_output/checkpoints/checkpoint_200/best_program.py \\\n",
        "  examples/circle_packing/evaluator.py \\\n",
        "  --config examples/circle_packing/config_phase_2.yaml \\\n",
        "  --iterations 300"
      ],
      "metadata": {
        "id": "HMD8iceC-Nqc"
      },
      "execution_count": null,
      "outputs": []
    },
    {
      "cell_type": "code",
      "source": [
        "# 1. 首先，匯入 importlib 函式庫\n",
        "import importlib\n",
        "\n",
        "# 迴圈的邏輯不變\n",
        "for idx in range(10, 300+1, 10):\n",
        "  try:\n",
        "    # 2. 將你想匯入的模組路徑建立成一個字串\n",
        "    module_path = f\"examples.circle_packing.openevolve_output.checkpoints.checkpoint_{idx}.best_program\"\n",
        "\n",
        "    # 3. 使用 importlib.import_module() 來動態匯入這個模組\n",
        "    best_program_module = importlib.import_module(module_path)\n",
        "\n",
        "    # 4. 從匯入的模組中取得你需要的函式\n",
        "    run_packing = best_program_module.run_packing\n",
        "    visualize = best_program_module.visualize\n",
        "\n",
        "    # 後續的程式碼不變\n",
        "    print(f\"--- 正在處理 Checkpoint {idx} ---\")\n",
        "    centers, radii, sum_radii = run_packing()\n",
        "    print(f\"Sum of radii: {sum_radii}\")\n",
        "    visualize(centers, radii)\n",
        "    print(f\"--- Checkpoint {idx} 處理完畢 ---\\n\")\n",
        "\n",
        "  except ImportError:\n",
        "    # 加上一個錯誤處理，如果某個 checkpoint 不存在，程式才不會中斷\n",
        "    print(f\"錯誤：找不到模組 {module_path}。請檢查路徑或檔案是否存在。\")\n",
        "  except Exception as e:\n",
        "    # 捕捉其他可能的錯誤\n",
        "    print(f\"在處理 Checkpoint {idx} 時發生錯誤: {e}\")"
      ],
      "metadata": {
        "id": "fDVgoFml8iJZ"
      },
      "execution_count": null,
      "outputs": []
    }
  ],
  "metadata": {
    "colab": {
      "name": "歡迎使用 Colab",
      "provenance": [],
      "include_colab_link": true
    },
    "kernelspec": {
      "display_name": "Python 3",
      "name": "python3"
    }
  },
  "nbformat": 4,
  "nbformat_minor": 0
}